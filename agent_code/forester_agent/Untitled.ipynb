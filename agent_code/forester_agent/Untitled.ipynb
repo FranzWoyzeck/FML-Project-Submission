{
 "cells": [
  {
   "cell_type": "code",
   "execution_count": 3,
   "metadata": {},
   "outputs": [],
   "source": [
    "import pickle\n",
    "import numpy as np\n",
    "from sklearn.tree import DecisionTreeRegressor\n",
    "from sklearn.ensemble import GradientBoostingRegressor\n",
    "ACTIONS = ['UP', 'RIGHT', 'DOWN', 'LEFT', 'WAIT', 'BOMB']\n",
    "ACTION_TO_INT = {'UP':0, 'RIGHT':1, 'DOWN':2, 'LEFT':3, 'WAIT':4, 'BOMB':5}"
   ]
  },
  {
   "cell_type": "code",
   "execution_count": 4,
   "metadata": {},
   "outputs": [],
   "source": [
    "# TODO: implement gradient boost\n",
    "# TODO: check put PyTables to save and load entries of large dictionaries saved as a file"
   ]
  },
  {
   "cell_type": "code",
   "execution_count": 5,
   "metadata": {},
   "outputs": [
    {
     "output_type": "execute_result",
     "data": {
      "text/plain": [
       "array([0, 0])"
      ]
     },
     "metadata": {},
     "execution_count": 5
    }
   ],
   "source": [
    "d = dict()\n",
    "state = np.array([0, 0])\n",
    "k = tuple(state.tolist())   # convert numpy array to a tuple\n",
    "\n",
    "d[k] = [[],[]]\n",
    "d[k][0] = 0\n",
    "d[k][1] = 1\n",
    "d[k]\n",
    "\n",
    "new_state = np.asarray(k)   # convert tuple back to numpy array\n",
    "new_state"
   ]
  },
  {
   "cell_type": "code",
   "execution_count": 6,
   "metadata": {},
   "outputs": [],
   "source": [
    "with open(\"my-saved-q-table.pt\", \"rb\") as file:\n",
    "    q_table:dict = dict(pickle.load(file))\n",
    "with open(\"action_vectors.pt\", \"rb\") as file:\n",
    "    action_vectors:dict = dict(pickle.load(file))"
   ]
  },
  {
   "cell_type": "code",
   "execution_count": 7,
   "metadata": {},
   "outputs": [],
   "source": [
    "def state_to_action_via_lin_val_est(state_str:str):\n",
    "    temp_str = state_str[1:-1]\n",
    "    state = np.fromstring(temp_str, dtype=float, sep=' ')\n",
    "    Q = np.zeros(len(ACTIONS))\n",
    "    for i, a in enumerate(ACTIONS):\n",
    "        Q[i] = np.dot(state, action_vectors[a])\n",
    "    action_int = Q.argmax()\n",
    "    return ACTIONS[action_int]"
   ]
  },
  {
   "cell_type": "code",
   "execution_count": 8,
   "metadata": {
    "tags": []
   },
   "outputs": [
    {
     "output_type": "stream",
     "name": "stdout",
     "text": [
      "(1, 1, 3, 1, 1, -1) simple_q_learning:  DOWN\n[-2.56663054 -0.4847274   1.30035189 -0.99369456 -9.84715146 -4.14537862]\n\n(1, 0, 3, 2, 1, -1) simple_q_learning:  DOWN\n[ 0.26144006 -6.13770968 99.65960943 -7.42751742 -4.49648537 -2.75906005]\n\n(1, 1, -1, 3, 1, -1) simple_q_learning:  LEFT\n[ -2.25242937  -1.49687454  -3.65926227   2.28455969 -12.34601115\n  -3.94746583]\n\n(1, 0, -1, -2, 1, -1) simple_q_learning:  UP\n[ 2.44570118 -2.21928042 -0.02278685 -0.96728004 -0.89039792 -0.82112906]\n\n(1, 1, 2, 1, 1, -1) simple_q_learning:  DOWN\n[-1.1040935   0.85249232  1.3708183  -1.58162013 -3.6869916  -1.17246684]\n\n(1, 0, 2, 2, 1, -1) simple_q_learning:  DOWN\n[ 0.12522896 -1.17868157  0.75890727 -0.97856772  0.03449617  0.20511229]\n\n(1, 1, 2, 3, 1, -1) simple_q_learning:  RIGHT\n[-1.26490535 99.3668719  -1.86087879 -3.09758963 -6.28093251 -2.4528628 ]\n\n(1, 1, 3, 3, 1, -1) simple_q_learning:  RIGHT\n[ 1.05496491 42.89807903  1.01179235  4.96981254  1.0952716   5.63626486]\n\n(1, 1, -1, -1, 1, -1) simple_q_learning:  LEFT\n[  0.08591121  -2.54020421  -2.35026135   1.45057566 -10.31014611\n  -5.16944039]\n\n(1, 0, -1, -1, 1, -1) simple_q_learning:  UP\n[ 1.07293182 -4.91534927 -1.65874531 -2.80607576 -1.88326354 -1.2333632 ]\n\n(1, 1, 3, -2, 1, -1) simple_q_learning:  UP\n[98.64953253 -0.26558322 -1.63750794 -2.08263989 -4.13181548 -5.30340523]\n\n(1, 0, -1, 2, 1, -1) simple_q_learning:  DOWN\n[ 0.63190797 -8.74339903  2.60469321 -6.77578037 -2.79531282 -0.89054403]\n\n(1, 1, -1, 1, 1, -1) simple_q_learning:  DOWN\n[-2.64062357 -1.63798746  1.36957356  0.81354295 -4.51178164 -1.7362325 ]\n\n(0, 1, -1, 1, 1, -1) simple_q_learning:  LEFT\n[-4.45772562  0.29856676 -4.34824432  1.68157777 -3.56288275 -0.75989062]\n\n(1, 1, -2, 1, 1, -1) simple_q_learning:  DOWN\n[ 0.26379844 -2.09843718  1.54629537  0.35222752 -5.97333087 -3.85896822]\n\n(1, 0, -2, 2, 1, -1) simple_q_learning:  DOWN\n[ 0.33520998 -8.72461392  2.63736607 -5.35215988 -2.01692369 -0.05917084]\n\n(1, 1, -2, 3, 1, -1) simple_q_learning:  LEFT\n[ -2.27020829   0.22587483   1.18381102 100.15812639  -7.13057102\n  -3.53638197]\n\n(0, 1, 2, -1, 1, -1) simple_q_learning:  RIGHT\n[-7.15903154 -0.02633791 -4.75615504 -1.14546364 -2.80592799 -1.58432326]\n\n(1, 1, 3, -1, 1, -1) simple_q_learning:  UP\n[ -0.3258979   -1.42750881  -6.84805538  -4.10140238 -12.69424162\n  -8.33975677]\n\n(1, 0, 3, -2, 1, -1) simple_q_learning:  UP\n[ 99.3837435  -10.77242064  -0.70936559 -12.37418251  -7.35991659\n  -2.41591306]\n\n(1, 1, -1, 2, 1, -1) simple_q_learning:  LEFT\n[-2.47633501 -0.5913379   0.540278    2.49951784 -4.3356737  -2.55029352]\n\n(1, 0, -1, 3, 1, -1) simple_q_learning:  DOWN\n[-0.52055337 -0.08706007  0.4012451  -1.89936822 -1.99225876 -0.13408727]\n\n(0, 1, -2, -1, 1, -1) simple_q_learning:  LEFT\n[ -8.43790878  -0.16510452 -11.68971893  -0.09700766  -5.22662773\n  -1.95470156]\n\n(1, 1, -1, -2, 1, -1) simple_q_learning:  LEFT\n[-0.32420868 -1.25017619 -3.00732457  1.62282986 -4.36120186 -4.04302018]\n\n(0, 1, -1, 2, 1, -1) simple_q_learning:  LEFT\n[-7.11822609  0.77580985 -8.85384128  1.9485024  -4.36369455 -2.44587362]\n\n(1, 0, 3, -1, 1, -1) simple_q_learning:  UP\n[ -0.67334932 -18.83741075  -2.7251702  -16.1885918  -12.70772868\n  -7.84263802]\n\n(0, 1, -2, 1, 1, -1) simple_q_learning:  LEFT\n[-2.8307787   0.73938607 -4.36852888  1.60236289 -1.7699582  -0.34507112]\n\n(1, 0, -1, 1, 1, -1) simple_q_learning:  DOWN\n[  0.18898865  -8.76108216   1.18330317 -11.28067076  -3.687431\n  -2.15438328]\n\n(0, 1, -2, 2, 1, -1) simple_q_learning:  LEFT\n[-7.19536606  0.6318453  -5.11098685  1.76318852 -5.02459694 -0.78977177]\n\n(0, 1, -1, 3, 1, -1) simple_q_learning:  LEFT\n[-15.76498256   0.03660152 -14.71135652   2.02942238  -9.33203259\n  -5.14986561]\n\n(0, 1, -2, 3, 1, -1) simple_q_learning:  LEFT\n[-6.48831032  0.53470147 -6.4811837  99.68326914 -5.74054015 -0.46712107]\n\n(0, 1, -1, -1, 1, -1) simple_q_learning:  LEFT\n[ -8.37844346  -0.30339651 -13.67814032   1.40929416  -5.76759322\n  -4.61430872]\n\n(0, 1, 3, -1, 1, -1) simple_q_learning:  RIGHT\n[-7.11938056 -0.81179341 -5.49886508 -1.82062254 -5.41162089 -4.67197685]\n\n(1, 1, -2, -1, 1, -1) simple_q_learning:  UP\n[-0.23023734 -1.60541221 -2.52995263 -1.65339739 -7.00003114 -4.43625064]\n\n(1, 1, 1, -2, 1, -1) simple_q_learning:  UP\n[-0.04668033 -1.38221863 -3.14439681 -1.62477497 -5.64178676 -5.01634768]\n\n(1, 0, 1, 3, 1, -1) simple_q_learning:  UP\n[ -1.44135701 -13.1511785   -2.80270284 -13.61707353  -7.50817948\n  -5.04680445]\n\n(1, 1, 1, 1, 1, -1) simple_q_learning:  DOWN\n[-1.52182088  0.48200069  1.48732831 -2.93509443 -7.57190343 -3.77304651]\n\n(0, 1, 1, 1, 1, -1) simple_q_learning:  RIGHT\n[-7.18100277  1.29803848 -8.47273289 -0.6564283  -3.88705598 -1.39913011]\n\n(0, 1, 2, 1, 1, -1) simple_q_learning:  RIGHT\n[-3.07035047  1.66063566 -8.46237046 -0.25161965 -7.02841393 -1.21723353]\n\n(1, 0, 3, 1, 1, -1) simple_q_learning:  DOWN\n[ -0.64691248 -15.64441279   1.16333912 -16.4857959   -8.05544321\n  -4.76288849]\n\n(1, 1, 3, 2, 1, -1) simple_q_learning:  DOWN\n[-0.71850919 -0.81468136 99.22443761 -1.11352088 -8.74083511 -3.81418592]\n\n(1, 0, 1, 2, 1, -1) simple_q_learning:  DOWN\n[ 0.09022164 -6.80647975  0.86996046 -9.88308399 -6.05161437 -0.89676266]\n\n(0, 1, 3, 1, 1, -1) simple_q_learning:  RIGHT\n[-5.66948212 -0.42673406 -6.30668673 -0.55739324 -3.79943969 -1.16635425]\n\n(1, 0, -2, 1, 1, -1) simple_q_learning:  DOWN\n[  0.61055536 -10.39718565   1.02111928  -3.73979257  -2.79653537\n   0.05153545]\n\n(1, 0, 2, -2, 1, -1) simple_q_learning:  UP\n[ 0.88597869 -4.09722588 -0.41478735 -7.38918204 -3.99413553 -2.26781964]\n\n(1, 1, 2, -1, 1, -1) simple_q_learning:  UP\n[-0.36226145 -0.56414268 -1.58233786 -2.43121917 -5.67948395 -4.04991911]\n\n(0, 1, 1, -1, 1, -1) simple_q_learning:  RIGHT\n[ -9.1344361    0.03059903 -11.32781451  -1.1044399   -8.86332158\n  -3.06015925]\n\n(1, 1, 1, -1, 1, -1) simple_q_learning:  RIGHT\n[-0.03486173  0.5470809  -4.50470987 -4.36118414 -9.15273501 -6.02876747]\n\n(1, 0, 1, -1, 1, -1) simple_q_learning:  DOWN\n[-1.53593861 -7.423795   -1.43612295 -8.10118947 -3.02942575 -3.60760188]\n\n(1, 0, 1, -2, 1, -1) simple_q_learning:  DOWN\n[-1.34608242 -8.19237719 -1.03051121 -7.16319744 -1.87616987 -1.38580772]\n\n(1, 1, 1, 2, 1, -1) simple_q_learning:  RIGHT\n[ -2.88518474   0.62598192  -0.7149614   -3.36592047 -10.77010204\n  -6.1973535 ]\n\n(0, 1, 2, 2, 1, -1) simple_q_learning:  RIGHT\n[ -9.71304526   1.76793345 -10.28438984   0.06376724  -4.83708859\n  -0.17412354]\n\n(1, 1, 1, 3, 1, -1) simple_q_learning:  RIGHT\n[ -3.79417638   0.50525652  -3.75029302  -3.3342565  -14.23912485\n  -5.1290399 ]\n\n(0, 1, 1, 3, 1, -1) simple_q_learning:  RIGHT\n[-16.53419685   0.42291567 -15.23613359  -1.8264095  -11.691392\n  -4.66923052]\n\n(1, 0, 2, 1, 1, -1) simple_q_learning:  DOWN\n[ 0.53757767 -1.105686    1.05441217 -2.83892965 -2.8236553  -0.38116269]\n\n(0, 1, 2, 3, 1, -1) simple_q_learning:  RIGHT\n[ -9.13043484  99.28853148 -10.83646202  -1.1512921   -1.10727415\n  -3.69085577]\n\n(1, 0, 2, -1, 1, -1) simple_q_learning:  UP\n[-0.83036743 -7.43890538 -1.16254422 -4.85221701 -2.75163202 -1.18522409]\n\n(1, 0, 1, 1, 1, -1) simple_q_learning:  DOWN\n[-1.21801752 -7.49205767  0.93881079 -8.77070295 -3.57944599 -3.11371926]\n\n(0, 1, 1, -2, 1, -1) simple_q_learning:  RIGHT\n[-2.06044046 -0.08337917 -2.8825935  -0.97307538 -1.74075077 -1.70584846]\n\n(0, 1, 2, -2, 1, -1) simple_q_learning:  RIGHT\n[-1.17525887 -0.12148336 -2.03888558 -0.35413009 -2.79848197 -0.73197138]\n\n(0, 1, 1, 2, 1, -1) simple_q_learning:  RIGHT\n[-9.79667285 -0.02517628 -7.09936973 -1.08857467 -4.61756664 -3.22304559]\n\n(0, 1, -1, -2, 1, -1) simple_q_learning:  LEFT\n[-5.16102994 -0.24244902 -4.38056285  1.97722235 -1.84680663 -0.15772011]\n\n(1, 0, -2, -1, 1, -1) simple_q_learning:  UP\n[-0.83443456 -7.43185127 -2.63358836 -8.05124297 -3.88268588 -3.63982641]\n\n(1, 0, -2, -2, 1, -1) simple_q_learning:  UP\n[ 2.67998339 -5.92525214  0.57089928 -3.25156997 -6.55995684 -2.61466582]\n\n(0, 1, -2, -2, 1, -1) simple_q_learning:  LEFT\n[-3.70572275 -1.08773844 -4.36198648 -0.08554858 -0.87747622 -1.04761307]\n\n(1, 1, -2, -2, 1, -1) simple_q_learning:  LEFT\n[0.02785113 1.03588688 1.07320975 1.08544698 1.06918458 1.03547758]\n\n"
     ]
    }
   ],
   "source": [
    "c = 0\n",
    "for key in q_table.keys():\n",
    "    #print(key)\n",
    "    action = q_table[key].argmax()\n",
    "    print(key, \"simple_q_learning: \", ACTIONS[action] )\n",
    "    print(q_table[key] )\n",
    "    print()"
   ]
  },
  {
   "cell_type": "code",
   "execution_count": 9,
   "metadata": {},
   "outputs": [
    {
     "output_type": "stream",
     "name": "stdout",
     "text": [
      "66\n0\n"
     ]
    }
   ],
   "source": [
    "print(len(q_table)) \n",
    "print(c)"
   ]
  },
  {
   "cell_type": "code",
   "execution_count": 10,
   "metadata": {},
   "outputs": [
    {
     "output_type": "execute_result",
     "data": {
      "text/plain": [
       "array([[1., 0., 0.],\n",
       "       [0., 1., 0.],\n",
       "       [0., 0., 1.]])"
      ]
     },
     "metadata": {},
     "execution_count": 10
    }
   ],
   "source": [
    "X = np.eye(3)   # <- samples / features\n",
    "#X = X.reshape(-1, 1)\n",
    "y = np.array([1, 2, 3]) # <- tags / Q-val\n",
    "X"
   ]
  },
  {
   "cell_type": "code",
   "execution_count": 11,
   "metadata": {},
   "outputs": [
    {
     "output_type": "execute_result",
     "data": {
      "text/plain": [
       "array([1.])"
      ]
     },
     "metadata": {},
     "execution_count": 11
    }
   ],
   "source": [
    "regressor = DecisionTreeRegressor(random_state = 0)\n",
    "regressor.fit(X,y)\n",
    "y_pred = regressor.predict([[1, 0, 0]])\n",
    "y_pred"
   ]
  },
  {
   "cell_type": "code",
   "execution_count": 22,
   "metadata": {},
   "outputs": [
    {
     "output_type": "error",
     "ename": "ValueError",
     "evalue": "Expected 2D array, got 1D array instead:\narray=[1. 0. 0.].\nReshape your data either using array.reshape(-1, 1) if your data has a single feature or array.reshape(1, -1) if it contains a single sample.",
     "traceback": [
      "\u001b[0;31m---------------------------------------------------------------------------\u001b[0m",
      "\u001b[0;31mValueError\u001b[0m                                Traceback (most recent call last)",
      "\u001b[0;32m<ipython-input-22-9775691cdcd6>\u001b[0m in \u001b[0;36m<module>\u001b[0;34m\u001b[0m\n\u001b[1;32m      2\u001b[0m \u001b[0mregressor\u001b[0m \u001b[0;34m=\u001b[0m \u001b[0mGradientBoostingRegressor\u001b[0m\u001b[0;34m(\u001b[0m\u001b[0mrandom_state\u001b[0m \u001b[0;34m=\u001b[0m \u001b[0;36m0\u001b[0m\u001b[0;34m)\u001b[0m\u001b[0;34m\u001b[0m\u001b[0;34m\u001b[0m\u001b[0m\n\u001b[1;32m      3\u001b[0m \u001b[0mregressor\u001b[0m\u001b[0;34m.\u001b[0m\u001b[0mfit\u001b[0m\u001b[0;34m(\u001b[0m\u001b[0mX\u001b[0m\u001b[0;34m,\u001b[0m\u001b[0my\u001b[0m\u001b[0;34m)\u001b[0m\u001b[0;34m\u001b[0m\u001b[0;34m\u001b[0m\u001b[0m\n\u001b[0;32m----> 4\u001b[0;31m \u001b[0my_pred\u001b[0m \u001b[0;34m=\u001b[0m \u001b[0mregressor\u001b[0m\u001b[0;34m.\u001b[0m\u001b[0mpredict\u001b[0m\u001b[0;34m(\u001b[0m\u001b[0mx_test\u001b[0m\u001b[0;34m)\u001b[0m\u001b[0;34m\u001b[0m\u001b[0;34m\u001b[0m\u001b[0m\n\u001b[0m\u001b[1;32m      5\u001b[0m \u001b[0my_pred\u001b[0m\u001b[0;34m\u001b[0m\u001b[0;34m\u001b[0m\u001b[0m\n",
      "\u001b[0;32m~/anaconda3/envs/m1_homework/lib/python3.8/site-packages/sklearn/ensemble/_gb.py\u001b[0m in \u001b[0;36mpredict\u001b[0;34m(self, X)\u001b[0m\n\u001b[1;32m   1607\u001b[0m             \u001b[0mThe\u001b[0m \u001b[0mpredicted\u001b[0m \u001b[0mvalues\u001b[0m\u001b[0;34m.\u001b[0m\u001b[0;34m\u001b[0m\u001b[0;34m\u001b[0m\u001b[0m\n\u001b[1;32m   1608\u001b[0m         \"\"\"\n\u001b[0;32m-> 1609\u001b[0;31m         \u001b[0mX\u001b[0m \u001b[0;34m=\u001b[0m \u001b[0mcheck_array\u001b[0m\u001b[0;34m(\u001b[0m\u001b[0mX\u001b[0m\u001b[0;34m,\u001b[0m \u001b[0mdtype\u001b[0m\u001b[0;34m=\u001b[0m\u001b[0mDTYPE\u001b[0m\u001b[0;34m,\u001b[0m \u001b[0morder\u001b[0m\u001b[0;34m=\u001b[0m\u001b[0;34m\"C\"\u001b[0m\u001b[0;34m,\u001b[0m \u001b[0maccept_sparse\u001b[0m\u001b[0;34m=\u001b[0m\u001b[0;34m'csr'\u001b[0m\u001b[0;34m)\u001b[0m\u001b[0;34m\u001b[0m\u001b[0;34m\u001b[0m\u001b[0m\n\u001b[0m\u001b[1;32m   1610\u001b[0m         \u001b[0;31m# In regression we can directly return the raw value from the trees.\u001b[0m\u001b[0;34m\u001b[0m\u001b[0;34m\u001b[0m\u001b[0;34m\u001b[0m\u001b[0m\n\u001b[1;32m   1611\u001b[0m         \u001b[0;32mreturn\u001b[0m \u001b[0mself\u001b[0m\u001b[0;34m.\u001b[0m\u001b[0m_raw_predict\u001b[0m\u001b[0;34m(\u001b[0m\u001b[0mX\u001b[0m\u001b[0;34m)\u001b[0m\u001b[0;34m.\u001b[0m\u001b[0mravel\u001b[0m\u001b[0;34m(\u001b[0m\u001b[0;34m)\u001b[0m\u001b[0;34m\u001b[0m\u001b[0;34m\u001b[0m\u001b[0m\n",
      "\u001b[0;32m~/anaconda3/envs/m1_homework/lib/python3.8/site-packages/sklearn/utils/validation.py\u001b[0m in \u001b[0;36minner_f\u001b[0;34m(*args, **kwargs)\u001b[0m\n\u001b[1;32m     70\u001b[0m                           FutureWarning)\n\u001b[1;32m     71\u001b[0m         \u001b[0mkwargs\u001b[0m\u001b[0;34m.\u001b[0m\u001b[0mupdate\u001b[0m\u001b[0;34m(\u001b[0m\u001b[0;34m{\u001b[0m\u001b[0mk\u001b[0m\u001b[0;34m:\u001b[0m \u001b[0marg\u001b[0m \u001b[0;32mfor\u001b[0m \u001b[0mk\u001b[0m\u001b[0;34m,\u001b[0m \u001b[0marg\u001b[0m \u001b[0;32min\u001b[0m \u001b[0mzip\u001b[0m\u001b[0;34m(\u001b[0m\u001b[0msig\u001b[0m\u001b[0;34m.\u001b[0m\u001b[0mparameters\u001b[0m\u001b[0;34m,\u001b[0m \u001b[0margs\u001b[0m\u001b[0;34m)\u001b[0m\u001b[0;34m}\u001b[0m\u001b[0;34m)\u001b[0m\u001b[0;34m\u001b[0m\u001b[0;34m\u001b[0m\u001b[0m\n\u001b[0;32m---> 72\u001b[0;31m         \u001b[0;32mreturn\u001b[0m \u001b[0mf\u001b[0m\u001b[0;34m(\u001b[0m\u001b[0;34m**\u001b[0m\u001b[0mkwargs\u001b[0m\u001b[0;34m)\u001b[0m\u001b[0;34m\u001b[0m\u001b[0;34m\u001b[0m\u001b[0m\n\u001b[0m\u001b[1;32m     73\u001b[0m     \u001b[0;32mreturn\u001b[0m \u001b[0minner_f\u001b[0m\u001b[0;34m\u001b[0m\u001b[0;34m\u001b[0m\u001b[0m\n\u001b[1;32m     74\u001b[0m \u001b[0;34m\u001b[0m\u001b[0m\n",
      "\u001b[0;32m~/anaconda3/envs/m1_homework/lib/python3.8/site-packages/sklearn/utils/validation.py\u001b[0m in \u001b[0;36mcheck_array\u001b[0;34m(array, accept_sparse, accept_large_sparse, dtype, order, copy, force_all_finite, ensure_2d, allow_nd, ensure_min_samples, ensure_min_features, estimator)\u001b[0m\n\u001b[1;32m    617\u001b[0m             \u001b[0;31m# If input is 1D raise error\u001b[0m\u001b[0;34m\u001b[0m\u001b[0;34m\u001b[0m\u001b[0;34m\u001b[0m\u001b[0m\n\u001b[1;32m    618\u001b[0m             \u001b[0;32mif\u001b[0m \u001b[0marray\u001b[0m\u001b[0;34m.\u001b[0m\u001b[0mndim\u001b[0m \u001b[0;34m==\u001b[0m \u001b[0;36m1\u001b[0m\u001b[0;34m:\u001b[0m\u001b[0;34m\u001b[0m\u001b[0;34m\u001b[0m\u001b[0m\n\u001b[0;32m--> 619\u001b[0;31m                 raise ValueError(\n\u001b[0m\u001b[1;32m    620\u001b[0m                     \u001b[0;34m\"Expected 2D array, got 1D array instead:\\narray={}.\\n\"\u001b[0m\u001b[0;34m\u001b[0m\u001b[0;34m\u001b[0m\u001b[0m\n\u001b[1;32m    621\u001b[0m                     \u001b[0;34m\"Reshape your data either using array.reshape(-1, 1) if \"\u001b[0m\u001b[0;34m\u001b[0m\u001b[0;34m\u001b[0m\u001b[0m\n",
      "\u001b[0;31mValueError\u001b[0m: Expected 2D array, got 1D array instead:\narray=[1. 0. 0.].\nReshape your data either using array.reshape(-1, 1) if your data has a single feature or array.reshape(1, -1) if it contains a single sample."
     ]
    }
   ],
   "source": [
    "x_test = np.array([1, 0, 0])\n",
    "regressor = GradientBoostingRegressor(random_state = 0)\n",
    "regressor.fit(X,y)\n",
    "y_pred = regressor.predict([x_test])\n",
    "y_pred"
   ]
  },
  {
   "cell_type": "code",
   "execution_count": 13,
   "metadata": {},
   "outputs": [
    {
     "output_type": "stream",
     "name": "stdout",
     "text": [
      "<class 'tuple'>\n((1, 2, 3), (2, 3, 4))\n\n<class 'numpy.ndarray'>\n[[1 2 3]\n [2 3 4]]\n\n<class 'numpy.ndarray'>\n[[[1 2 3]\n  [2 3 4]]]\n"
     ]
    }
   ],
   "source": [
    "tuple1 = ((1, 2, 3), (2, 3, 4)) \n",
    "print(type(tuple1)) \n",
    "print(tuple1) \n",
    "print() \n",
    "  \n",
    "# conversion \n",
    "array2 = np.array(tuple1) \n",
    "print(type(array2)) \n",
    "print(array2) \n",
    "print() \n",
    "  \n",
    "# list, array and tuple \n",
    "array3 = np.array([tuple1]) \n",
    "print(type(array3)) \n",
    "print(array3)"
   ]
  },
  {
   "cell_type": "code",
   "execution_count": 20,
   "metadata": {},
   "outputs": [
    {
     "output_type": "execute_result",
     "data": {
      "text/plain": [
       "array([[1, 1],\n",
       "       [2, 2],\n",
       "       [3, 3]])"
      ]
     },
     "metadata": {},
     "execution_count": 20
    }
   ],
   "source": [
    "d = {(1, 1):0, (2,2):2, (3,3):5}\n",
    "test_list = list(d.keys())\n",
    "res = np.array(list(map(list, test_list)))\n",
    "res\n",
    "#X = list(X)\n",
    "#np.asarray(X)"
   ]
  },
  {
   "cell_type": "code",
   "execution_count": null,
   "metadata": {},
   "outputs": [],
   "source": []
  }
 ],
 "metadata": {
  "kernelspec": {
   "display_name": "Python 3",
   "language": "python",
   "name": "python3"
  },
  "language_info": {
   "codemirror_mode": {
    "name": "ipython",
    "version": 3
   },
   "file_extension": ".py",
   "mimetype": "text/x-python",
   "name": "python",
   "nbconvert_exporter": "python",
   "pygments_lexer": "ipython3",
   "version": "3.8.5-final"
  }
 },
 "nbformat": 4,
 "nbformat_minor": 4
}