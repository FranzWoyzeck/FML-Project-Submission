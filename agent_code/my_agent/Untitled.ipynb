{
 "cells": [
  {
   "cell_type": "code",
   "execution_count": 119,
   "metadata": {},
   "outputs": [],
   "source": [
    "import pickle\n",
    "import numpy as np\n",
    "from sklearn.tree import DecisionTreeRegressor\n",
    "from sklearn.ensemble import GradientBoostingRegressor\n",
    "ACTIONS = ['UP', 'RIGHT', 'DOWN', 'LEFT', 'WAIT', 'BOMB']\n",
    "ACTION_TO_INT = {'UP':0, 'RIGHT':1, 'DOWN':2, 'LEFT':3, 'WAIT':4, 'BOMB':5}"
   ]
  },
  {
   "cell_type": "code",
   "execution_count": 120,
   "metadata": {},
   "outputs": [],
   "source": [
    "# TODO: check if the linear value approximation actually works, by approximating only for one case\n",
    "# TODO: check out regression forests\n",
    "# TODO: check put PyTables to save and load entries of large dictionaries saved as a file"
   ]
  },
  {
   "cell_type": "code",
   "execution_count": 121,
   "metadata": {},
   "outputs": [],
   "source": [
    "with open(\"my-saved-q-table.pt\", \"rb\") as file:\n",
    "    q_table:dict = dict(pickle.load(file))\n",
    "with open(\"action_vectors.pt\", \"rb\") as file:\n",
    "    action_vectors:dict = dict(pickle.load(file))"
   ]
  },
  {
   "cell_type": "code",
   "execution_count": 122,
   "metadata": {},
   "outputs": [],
   "source": [
    "def state_to_action_via_lin_val_est(state_str:str):\n",
    "    temp_str = state_str[1:-1]\n",
    "    state = np.fromstring(temp_str, dtype=float, sep=' ')\n",
    "    Q = np.zeros(len(ACTIONS))\n",
    "    for i, a in enumerate(ACTIONS):\n",
    "        Q[i] = np.dot(state, action_vectors[a])\n",
    "    action_int = Q.argmax()\n",
    "    return ACTIONS[action_int]"
   ]
  },
  {
   "cell_type": "code",
   "execution_count": 123,
   "metadata": {
    "tags": []
   },
   "outputs": [
    {
     "output_type": "stream",
     "name": "stdout",
     "text": [
      "[ 0  1  1  1  1 -1] simple_q_learning:  WAIT lin_val_approx:  RIGHT\n[-278.89412561 -312.55907192 -281.12689843 -282.73274067 -257.23282127\n -327.47470478]\n\n[ 0  1  1  2  1 -1] simple_q_learning:  RIGHT lin_val_approx:  RIGHT\n[-132.86555254  -16.84146976 -175.60121646 -154.67981192 -209.94486368\n -182.36837033]\n\n[ 0  1  1  3  1 -1] simple_q_learning:  RIGHT lin_val_approx:  RIGHT\n[-219.78503348  -35.17413658 -184.96390878 -218.38540244 -153.45760031\n -216.18108294]\n\n[ 0  1  1 -1  1 -1] simple_q_learning:  RIGHT lin_val_approx:  RIGHT\n[-266.64064665 -159.35224611 -273.71038091 -319.89958317 -210.40402823\n -192.22915748]\n\n[ 0  1  1 -2  1 -1] simple_q_learning:  LEFT lin_val_approx:  RIGHT\n[-187.44433159 -156.02144904 -122.39664621 -115.33417232 -178.19782478\n -168.90483773]\n\n[ 0  1  2  1  1 -1] simple_q_learning:  RIGHT lin_val_approx:  RIGHT\n[-335.63738304 -125.41614735 -284.91581895 -319.79820372 -316.63135292\n -345.83812413]\n\n[ 0  1  2  2  1 -1] simple_q_learning:  RIGHT lin_val_approx:  RIGHT\n[ -80.7559721   -14.94183593  -74.06705638 -107.29350966 -124.12017245\n -115.4829264 ]\n\n[ 0  1  2  3  1 -1] simple_q_learning:  RIGHT lin_val_approx:  RIGHT\n[ -41.17509487   -0.35091104 -182.57198123  -36.2802815   -35.96227852\n -100.05594529]\n\n[ 0  1  2 -1  1 -1] simple_q_learning:  WAIT lin_val_approx:  RIGHT\n[-200.1829082  -272.49566795 -229.16838208 -206.64246127 -188.91310069\n -324.92757183]\n\n[ 0  1  2 -2  1 -1] simple_q_learning:  RIGHT lin_val_approx:  RIGHT\n[-178.47349434  -96.75406337 -150.33452887 -174.28281391 -169.8806243\n -188.06540756]\n\n[ 0  1  3  1  1 -1] simple_q_learning:  RIGHT lin_val_approx:  RIGHT\n[-195.20655771  -48.65072617 -239.2089505  -207.40648693 -263.46376303\n -277.99698409]\n\n[ 0  1  3 -1  1 -1] simple_q_learning:  RIGHT lin_val_approx:  RIGHT\n[-246.57297702 -161.42292867 -203.28433443 -262.88395797 -253.47398272\n -234.03461124]\n\n[ 0  1 -1  1  1 -1] simple_q_learning:  LEFT lin_val_approx:  LEFT\n[-238.37160771 -227.16506275 -308.38671556  -38.98782225 -249.72559332\n -276.78130243]\n\n[ 0  1 -1  2  1 -1] simple_q_learning:  LEFT lin_val_approx:  RIGHT\n[-201.02988331 -207.93570986 -228.09280057  -53.0544632  -203.47840282\n -208.99495073]\n\n[ 0  1 -1  3  1 -1] simple_q_learning:  LEFT lin_val_approx:  RIGHT\n[ -88.06958349  -76.61704072  -68.98530418   -7.46264667 -147.47694825\n -123.93825349]\n\n[ 0  1 -1 -1  1 -1] simple_q_learning:  LEFT lin_val_approx:  LEFT\n[-171.67605171 -230.82699559 -209.99191537 -146.60108497 -267.48078591\n -227.31695178]\n\n[ 0  1 -1 -2  1 -1] simple_q_learning:  LEFT lin_val_approx:  LEFT\n[-171.53020654 -137.73192594 -113.86033228 -102.38442085 -163.86009808\n -140.13359019]\n\n[ 0  1 -2  1  1 -1] simple_q_learning:  RIGHT lin_val_approx:  LEFT\n[-228.83079265 -174.1468281  -252.49188799 -256.62478931 -264.30937658\n -289.544561  ]\n\n[ 0  1 -2  2  1 -1] simple_q_learning:  LEFT lin_val_approx:  LEFT\n[ -77.73591043  -67.50831124 -109.37281406  -11.46799583 -120.51240574\n -242.2465481 ]\n\n[ 0  1 -2  3  1 -1] simple_q_learning:  LEFT lin_val_approx:  LEFT\n[-17.5360535  -55.24833838 -22.99476653   3.88585734 -29.31770038\n -40.98204534]\n\n[ 0  1 -2 -1  1 -1] simple_q_learning:  RIGHT lin_val_approx:  LEFT\n[-206.56436893 -158.18414027 -245.94273588 -256.00026511 -246.02526016\n -257.84548792]\n\n[ 0  1 -2 -2  1 -1] simple_q_learning:  LEFT lin_val_approx:  LEFT\n[-238.25662856 -323.07322334 -303.18723722 -182.9925746  -259.87311298\n -293.70556805]\n\n[ 1  0  1  1  1 -1] simple_q_learning:  DOWN lin_val_approx:  DOWN\n[-275.94115576 -224.47181527 -162.4873644  -291.41691102 -241.19218693\n -229.12270845]\n\n[ 1  0  1  2  1 -1] simple_q_learning:  DOWN lin_val_approx:  DOWN\n[-232.39202285 -227.32404166  -86.821459   -217.46134829 -236.0604426\n -225.47568685]\n\n[ 1  0  1  3  1 -1] simple_q_learning:  UP lin_val_approx:  DOWN\n[ -75.84524286 -211.30928703 -266.77329218 -170.74617482 -206.50118479\n -233.83832794]\n\n[ 1  0  1 -1  1 -1] simple_q_learning:  DOWN lin_val_approx:  DOWN\n[-224.26280223 -213.29088103 -115.77569243 -250.78982363 -236.10773771\n -216.08596872]\n\n[ 1  0  1 -2  1 -1] simple_q_learning:  DOWN lin_val_approx:  DOWN\n[-162.83121343 -286.40101997  -71.22781426 -274.10544813 -175.34719114\n -203.34721269]\n\n[ 1  0  2  1  1 -1] simple_q_learning:  UP lin_val_approx:  DOWN\n[-120.07302563 -264.8810012  -297.86456015 -273.35338557 -235.20696765\n -330.63607872]\n\n[ 1  0  2  2  1 -1] simple_q_learning:  DOWN lin_val_approx:  DOWN\n[-179.93376802 -191.04459383  -57.3868163  -172.66092639 -128.56792711\n -215.839445  ]\n\n[ 1  0  2 -1  1 -1] simple_q_learning:  DOWN lin_val_approx:  DOWN\n[-247.26855545 -205.9925025  -125.11465149 -196.31192712 -260.49312918\n -274.66671714]\n\n[ 1  0  2 -2  1 -1] simple_q_learning:  UP lin_val_approx:  DOWN\n[ -13.49418332 -189.65086797 -269.0789126  -256.7514192  -191.83212032\n -212.51946401]\n\n[ 1  0  3  1  1 -1] simple_q_learning:  DOWN lin_val_approx:  DOWN\n[-261.7248649  -291.7359934   -56.219521   -276.74277955 -249.40088288\n -271.44592391]\n\n[ 1  0  3  2  1 -1] simple_q_learning:  DOWN lin_val_approx:  DOWN\n[-123.91350036  -90.27876167   31.31537311 -122.14806066 -165.16411654\n -116.16573973]\n\n[ 1  0  3 -1  1 -1] simple_q_learning:  UP lin_val_approx:  DOWN\n[ -96.26998665 -194.56422203 -213.84735099 -155.40778699 -202.65632693\n -212.57421097]\n\n[ 1  0  3 -2  1 -1] simple_q_learning:  UP lin_val_approx:  DOWN\n[ 26.6764262  -15.53885618 -29.09442208  -9.74847207 -71.83807193\n -78.15416933]\n\n[ 1  0 -1  1  1 -1] simple_q_learning:  DOWN lin_val_approx:  DOWN\n[-206.7445494  -323.82507268  -44.47184507 -143.80972612 -322.70038751\n -222.74651423]\n\n[ 1  0 -1  2  1 -1] simple_q_learning:  DOWN lin_val_approx:  DOWN\n[-196.5209841  -151.97461868   -7.04529535 -142.10746805 -192.83996973\n -188.31639371]\n\n[ 1  0 -1  3  1 -1] simple_q_learning:  DOWN lin_val_approx:  DOWN\n[-216.17176677 -252.832479   -100.82768861 -254.02151933 -216.62266001\n -247.59195123]\n\n[ 1  0 -1 -1  1 -1] simple_q_learning:  UP lin_val_approx:  DOWN\n[-139.22526316 -287.91832873 -246.26299071 -308.85967536 -239.74329669\n -332.16817928]\n\n[ 1  0 -1 -2  1 -1] simple_q_learning:  UP lin_val_approx:  DOWN\n[ -26.77067224 -281.83231994 -226.51707053 -267.76307341 -288.98873154\n -241.57073404]\n\n[ 1  0 -2  1  1 -1] simple_q_learning:  DOWN lin_val_approx:  DOWN\n[-126.80559044 -174.7678327   -22.50822424 -155.65290983 -250.87907187\n -160.80412706]\n\n[ 1  0 -2  2  1 -1] simple_q_learning:  DOWN lin_val_approx:  DOWN\n[ -88.46869031  -77.42902052    7.04917197 -110.4360642  -142.5324412\n -195.98705058]\n\n[ 1  0 -2 -1  1 -1] simple_q_learning:  RIGHT lin_val_approx:  DOWN\n[-126.51798328 -124.66929766 -126.69282528 -125.05898855 -148.66738695\n -230.30319213]\n\n[ 1  0 -2 -2  1 -1] simple_q_learning:  UP lin_val_approx:  DOWN\n[  -1.62449053  -75.08285781  -75.36361846  -71.72208277  -98.69848626\n -164.10655243]\n\n[ 1  1  1  1  1 -1] simple_q_learning:  DOWN lin_val_approx:  RIGHT\n[-308.47823276 -317.0205616  -141.32850407 -348.3757219  -299.94267055\n -314.53914509]\n\n[ 1  1  1  2  1 -1] simple_q_learning:  RIGHT lin_val_approx:  RIGHT\n[-117.88956389  -22.25604053 -107.14683997  -97.40498806 -123.22979214\n -174.28660333]\n\n[ 1  1  1  3  1 -1] simple_q_learning:  RIGHT lin_val_approx:  RIGHT\n[-164.56522742  -29.85898517 -223.17747813 -205.46967318 -183.10766192\n -167.96596889]\n\n[ 1  1  1 -1  1 -1] simple_q_learning:  RIGHT lin_val_approx:  RIGHT\n[-188.04019412 -129.39159458 -228.82335552 -164.04165164 -244.60187395\n -235.10641644]\n\n[ 1  1  1 -2  1 -1] simple_q_learning:  UP lin_val_approx:  RIGHT\n[ -93.29646137 -236.41551186 -110.5538286  -121.56945743 -178.08875762\n -187.33464955]\n\n[ 1  1  2  1  1 -1] simple_q_learning:  RIGHT lin_val_approx:  RIGHT\n[-235.01540871  -91.00588947 -203.165173   -236.26676775 -298.34211168\n -243.77017669]\n\n[ 1  1  2  3  1 -1] simple_q_learning:  RIGHT lin_val_approx:  RIGHT\n[-123.74495498  -11.28870272 -105.74332421  -61.07507971  -94.39259374\n -109.52942383]\n\n[ 1  1  2 -1  1 -1] simple_q_learning:  RIGHT lin_val_approx:  RIGHT\n[-244.31540144  -95.46157053 -300.59099724 -245.70094083 -256.49661425\n -276.61148138]\n\n[ 1  1  3  1  1 -1] simple_q_learning:  DOWN lin_val_approx:  RIGHT\n[-243.06269903 -232.55182137  -31.42767879 -230.73670461 -252.67173091\n -262.63579583]\n\n[ 1  1  3  2  1 -1] simple_q_learning:  DOWN lin_val_approx:  RIGHT\n[ -90.7980982  -135.45571901    6.33694989 -135.4571216   -96.94106866\n -129.76322106]\n\n[ 1  1  3  3  1 -1] simple_q_learning:  DOWN lin_val_approx:  RIGHT\n[13.70208832 15.56422561 16.96872028 16.18398412 14.91183843 14.82272321]\n\n[ 1  1  3 -1  1 -1] simple_q_learning:  UP lin_val_approx:  RIGHT\n[-174.02477933 -205.96091645 -220.68972379 -239.43746157 -189.6578631\n -256.95791834]\n\n[ 1  1  3 -2  1 -1] simple_q_learning:  DOWN lin_val_approx:  RIGHT\n[-144.74242237 -143.18378578 -100.42995761 -133.01901418 -133.86261231\n -148.72194974]\n\n[ 1  1 -1  1  1 -1] simple_q_learning:  DOWN lin_val_approx:  RIGHT\n[-134.3573405  -134.46646314  -27.91544924 -131.79755077 -198.14131445\n -157.50440817]\n\n[ 1  1 -1  2  1 -1] simple_q_learning:  LEFT lin_val_approx:  RIGHT\n[-171.78957408 -165.07557549 -159.58097278  -44.29193584 -153.11434819\n -230.94108255]\n\n[ 1  1 -1  3  1 -1] simple_q_learning:  LEFT lin_val_approx:  RIGHT\n[ -64.40846362  -94.8583566   -97.1560651    -3.21428387 -160.47765003\n -171.94881058]\n\n[ 1  1 -1 -1  1 -1] simple_q_learning:  UP lin_val_approx:  UP\n[-110.99231874 -272.9537029  -317.29009677 -292.95692548 -307.17199835\n -339.22892816]\n\n[ 1  1 -1 -2  1 -1] simple_q_learning:  UP lin_val_approx:  UP\n[ -98.42899488 -203.78125812 -161.55413913 -166.38304047 -209.43981536\n -179.29258298]\n\n[ 1  1 -2  1  1 -1] simple_q_learning:  DOWN lin_val_approx:  LEFT\n[-109.5666188  -114.41265974  -13.63636036 -111.62227013  -98.79445899\n -108.83475793]\n\n[ 1  1 -2  3  1 -1] simple_q_learning:  LEFT lin_val_approx:  LEFT\n[ -80.77361409  -30.3488764    -4.1104501    -0.69936629  -13.97143118\n -129.2721994 ]\n\n[ 1  1 -2 -1  1 -1] simple_q_learning:  LEFT lin_val_approx:  UP\n[-238.97367553 -249.979651   -298.11023145 -186.1905906  -281.71785308\n -272.63564099]\n\n[ 1  1 -2 -2  1 -1] simple_q_learning:  RIGHT lin_val_approx:  UP\n[-549.1298873  -331.8704402  -505.0845382  -550.12074422 -543.09854151\n -528.26465581]\n\n"
     ]
    }
   ],
   "source": [
    "c = 0\n",
    "for key in sorted(q_table.keys()):\n",
    "    #print(key)\n",
    "    action = q_table[key].argmax()\n",
    "    print(key, \"simple_q_learning: \", ACTIONS[action], \"lin_val_approx: \", state_to_action_via_lin_val_est(key) )\n",
    "    if (ACTIONS[action] ==state_to_action_via_lin_val_est(key)):\n",
    "        c += 1\n",
    "    print(q_table[key] )\n",
    "    print()"
   ]
  },
  {
   "cell_type": "code",
   "execution_count": 124,
   "metadata": {},
   "outputs": [
    {
     "output_type": "stream",
     "name": "stdout",
     "text": [
      "66\n37\n"
     ]
    }
   ],
   "source": [
    "print(len(q_table)) \n",
    "print(c)"
   ]
  },
  {
   "cell_type": "code",
   "execution_count": 125,
   "metadata": {},
   "outputs": [
    {
     "output_type": "execute_result",
     "data": {
      "text/plain": [
       "array([[1., 0., 0.],\n",
       "       [0., 1., 0.],\n",
       "       [0., 0., 1.]])"
      ]
     },
     "metadata": {},
     "execution_count": 125
    }
   ],
   "source": [
    "X = np.eye(3)   # <- samples / features\n",
    "#X = X.reshape(-1, 1)\n",
    "y = np.array([1, 2, 3]) # <- tags / Q-val\n",
    "X"
   ]
  },
  {
   "cell_type": "code",
   "execution_count": 126,
   "metadata": {},
   "outputs": [
    {
     "output_type": "execute_result",
     "data": {
      "text/plain": [
       "array([3.])"
      ]
     },
     "metadata": {},
     "execution_count": 126
    }
   ],
   "source": [
    "regressor = DecisionTreeRegressor(random_state = 0)\n",
    "regressor.fit(X,y)\n",
    "y_pred = regressor.predict([[0, 0, 1]])\n",
    "y_pred\n",
    "\n"
   ]
  },
  {
   "cell_type": "code",
   "execution_count": 129,
   "metadata": {},
   "outputs": [
    {
     "output_type": "execute_result",
     "data": {
      "text/plain": [
       "array([1.00002656])"
      ]
     },
     "metadata": {},
     "execution_count": 129
    }
   ],
   "source": [
    "regressor = GradientBoostingRegressor(random_state = 0)\n",
    "regressor.fit(X,y)\n",
    "y_pred = regressor.predict([[1, 0, 0]])\n",
    "y_pred"
   ]
  },
  {
   "cell_type": "code",
   "execution_count": null,
   "metadata": {},
   "outputs": [],
   "source": []
  }
 ],
 "metadata": {
  "kernelspec": {
   "display_name": "Python 3",
   "language": "python",
   "name": "python3"
  },
  "language_info": {
   "codemirror_mode": {
    "name": "ipython",
    "version": 3
   },
   "file_extension": ".py",
   "mimetype": "text/x-python",
   "name": "python",
   "nbconvert_exporter": "python",
   "pygments_lexer": "ipython3",
   "version": "3.8.5-final"
  }
 },
 "nbformat": 4,
 "nbformat_minor": 4
}