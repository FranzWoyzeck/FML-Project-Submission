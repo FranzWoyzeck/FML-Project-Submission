{
 "cells": [
  {
   "cell_type": "code",
   "execution_count": 9,
   "metadata": {},
   "outputs": [],
   "source": [
    "import pickle\n",
    "import numpy as np\n",
    "ACTIONS = ['UP', 'RIGHT', 'DOWN', 'LEFT', 'WAIT', 'BOMB']\n",
    "ACTION_TO_INT = {'UP':0, 'RIGHT':1, 'DOWN':2, 'LEFT':3, 'WAIT':4, 'BOMB':5}"
   ]
  },
  {
   "cell_type": "code",
   "execution_count": 10,
   "metadata": {},
   "outputs": [],
   "source": [
    "# TODO: check if the linear value approximation actually works, by approximating only for one case\n",
    "# TODO: check out regression forests\n",
    "# TODO: check put PyTables to save and load entries of large dictionaries saved as a file"
   ]
  },
  {
   "cell_type": "code",
   "execution_count": 15,
   "metadata": {},
   "outputs": [],
   "source": [
    "batch = [ [np.array([ 0,  1,  1,  1,  1, -1]), np.array([-164.52899074])] ]\n",
    "beta = np.zeros(6)\n",
    "LIN_VAL_TRAINING_RATE = 0.05\n",
    "N = 1"
   ]
  },
  {
   "cell_type": "code",
   "execution_count": 16,
   "metadata": {},
   "outputs": [
    {
     "output_type": "execute_result",
     "data": {
      "text/plain": [
       "array([ 0.        , -8.22644954, -8.22644954, -8.22644954, -8.22644954,\n",
       "        8.22644954])"
      ]
     },
     "metadata": {},
     "execution_count": 16
    }
   ],
   "source": [
    "\n",
    "\n",
    "s = 0 # sum\n",
    "for (X, Y) in batch:\n",
    "    s += X.T * ( Y - np.dot(X, beta) )\n",
    "new_beta = beta + (LIN_VAL_TRAINING_RATE / N) * s\n",
    "\n",
    "print(\"new_beta: \", new_beta)\n",
    "print()\n"
   ]
  },
  {
   "cell_type": "code",
   "execution_count": 6438,
   "metadata": {},
   "outputs": [
    {
     "output_type": "execute_result",
     "data": {
      "text/plain": [
       "'BOMB'"
      ]
     },
     "metadata": {},
     "execution_count": 6438
    }
   ],
   "source": [
    "ACTIONS[ACTION_TO_INT['BOMB']]"
   ]
  },
  {
   "cell_type": "code",
   "execution_count": 6439,
   "metadata": {},
   "outputs": [],
   "source": [
    "with open(\"my-saved-q-table.pt\", \"rb\") as file:\n",
    "    q_table:dict = dict(pickle.load(file))\n",
    "with open(\"action_vectors.pt\", \"rb\") as file:\n",
    "    action_vectors:dict = dict(pickle.load(file))"
   ]
  },
  {
   "cell_type": "code",
   "execution_count": 6440,
   "metadata": {},
   "outputs": [
    {
     "output_type": "execute_result",
     "data": {
      "text/plain": [
       "numpy.ndarray"
      ]
     },
     "metadata": {},
     "execution_count": 6440
    }
   ],
   "source": [
    "mystr = \"[ 0  1  0 -2]\"\n",
    "mystr = mystr[1:-1]\n",
    "#print (np.array(list(mystr)))\n",
    "\n",
    "test = np.fromstring(mystr, dtype=float, sep=' ')\n",
    "type(test)"
   ]
  },
  {
   "cell_type": "code",
   "execution_count": 6441,
   "metadata": {},
   "outputs": [],
   "source": [
    "def state_to_action_via_lin_val_est(state_str:str):\n",
    "    temp_str = state_str[1:-1]\n",
    "    state = np.fromstring(temp_str, dtype=float, sep=' ')\n",
    "    Q = np.zeros(len(ACTIONS))\n",
    "    for i, a in enumerate(ACTIONS):\n",
    "        Q[i] = np.dot(state, action_vectors[a])\n",
    "    action_int = Q.argmax()\n",
    "    return ACTIONS[action_int]"
   ]
  },
  {
   "cell_type": "code",
   "execution_count": 6442,
   "metadata": {
    "tags": []
   },
   "outputs": [
    {
     "output_type": "stream",
     "name": "stdout",
     "text": [
      "[ 0  1  1  1  1 -1] simple_q_learning:  RIGHT lin_val_approx:  LEFT\n[-164.52899074  -36.76160623 -113.90732006 -100.78677762 -181.33350842\n -195.79401605]\n\n[ 0  1  1  2  1 -1] simple_q_learning:  LEFT lin_val_approx:  LEFT\n[-198.89910737 -209.34945938 -298.94504885 -135.67157266 -265.42607637\n -236.25486353]\n\n[ 0  1  1  3  1 -1] simple_q_learning:  RIGHT lin_val_approx:  LEFT\n[-113.25044067    8.3102088   -81.75225019  -67.15097274 -124.17896386\n  -91.78516893]\n\n[ 0  1  1 -1  1 -1] simple_q_learning:  LEFT lin_val_approx:  LEFT\n[-249.33147776 -230.43585519 -262.21787079 -107.27228884 -204.16372052\n -214.87773547]\n\n[ 0  1  1 -2  1 -1] simple_q_learning:  LEFT lin_val_approx:  LEFT\n[-196.33271301 -155.26712604 -215.80262902 -110.25130517 -155.06031108\n -207.87376588]\n\n[ 0  1  2  1  1 -1] simple_q_learning:  RIGHT lin_val_approx:  LEFT\n[-173.4878898   -22.5686193  -189.6066073  -147.48683753 -194.44446391\n -181.00695994]\n\n[ 0  1  2  2  1 -1] simple_q_learning:  RIGHT lin_val_approx:  LEFT\n[-114.1790288    33.17525778  -99.69057037 -132.33621183 -192.20542777\n -112.89678349]\n\n[ 0  1  2  3  1 -1] simple_q_learning:  RIGHT lin_val_approx:  RIGHT\n[ 10.22854931  34.52667766   9.37784183 -21.93280685 -34.03933099\n -19.15955541]\n\n[ 0  1  2 -1  1 -1] simple_q_learning:  LEFT lin_val_approx:  LEFT\n[-266.82034889 -209.89216924 -268.92974699  -91.31909502 -241.89423419\n -291.86106188]\n\n[ 0  1  2 -2  1 -1] simple_q_learning:  UP lin_val_approx:  LEFT\n[-147.88128943 -164.79004939 -227.52808877 -166.42457704 -214.12933931\n -148.4806131 ]\n\n[ 0  1  3  1  1 -1] simple_q_learning:  LEFT lin_val_approx:  RIGHT\n[-234.13522938 -215.08883123 -186.72796795  -35.82458373 -183.9905937\n -185.01920513]\n\n[ 0  1  3 -1  1 -1] simple_q_learning:  LEFT lin_val_approx:  LEFT\n[-175.07755961 -189.13269099 -188.7377554  -101.196339   -232.49127174\n -227.37624746]\n\n[ 0  1 -1  1  1 -1] simple_q_learning:  RIGHT lin_val_approx:  LEFT\n[-252.03453594  -66.27281062 -225.10137972 -216.29705214 -222.22397047\n -280.01066053]\n\n[ 0  1 -1  2  1 -1] simple_q_learning:  LEFT lin_val_approx:  LEFT\n[-168.10255882 -175.7949013  -141.31069594  -47.82252275 -142.33613713\n -226.22360711]\n\n[ 0  1 -1  3  1 -1] simple_q_learning:  LEFT lin_val_approx:  LEFT\n[-119.36157953 -128.60959815 -150.82560919   -4.81595806 -174.8243959\n -220.50753661]\n\n[ 0  1 -1 -1  1 -1] simple_q_learning:  LEFT lin_val_approx:  LEFT\n[-381.13066317 -233.95387086 -170.09278015 -103.35301155 -173.83250222\n -217.56460598]\n\n[ 0  1 -1 -2  1 -1] simple_q_learning:  LEFT lin_val_approx:  LEFT\n[-247.88071983 -214.22539139 -229.59418582  -79.47038813 -241.62807156\n -216.85006263]\n\n[ 0  1 -2  1  1 -1] simple_q_learning:  RIGHT lin_val_approx:  LEFT\n[-109.78863047  -62.93083078 -124.97349536 -127.76068451 -157.77285222\n -138.80180552]\n\n[ 0  1 -2  2  1 -1] simple_q_learning:  LEFT lin_val_approx:  LEFT\n[-183.89975465 -129.68183342 -152.35081932   27.0366364  -213.35246451\n -229.69822499]\n\n[ 0  1 -2  3  1 -1] simple_q_learning:  LEFT lin_val_approx:  LEFT\n[-136.13350772  -47.26837149 -144.33824157   54.15510089 -116.48301137\n  -78.12289239]\n\n[ 0  1 -2 -1  1 -1] simple_q_learning:  LEFT lin_val_approx:  LEFT\n[-213.67217981 -155.79266251 -165.59532073   -4.41679921 -181.26014641\n -255.07063485]\n\n[ 0  1 -2 -2  1 -1] simple_q_learning:  LEFT lin_val_approx:  LEFT\n[-189.65284036 -218.98928779 -160.4778336     7.80642261 -176.95758948\n -211.0120583 ]\n\n[ 1  0  1  1  1 -1] simple_q_learning:  UP lin_val_approx:  UP\n[ -71.10384304 -170.89423103 -181.42103047 -188.23665513 -166.12731632\n -193.46604767]\n\n[ 1  0  1  2  1 -1] simple_q_learning:  DOWN lin_val_approx:  UP\n[-149.61994315 -211.96491266   -2.74886177 -125.53043078 -142.59566625\n -231.51334129]\n\n[ 1  0  1  3  1 -1] simple_q_learning:  UP lin_val_approx:  DOWN\n[-124.20771227 -169.14877196 -207.46075298 -186.72700331 -233.46798473\n -200.88657766]\n\n[ 1  0  1 -1  1 -1] simple_q_learning:  UP lin_val_approx:  UP\n[ -99.00496018 -206.92400318 -249.04757299 -251.69271174 -277.95801342\n -278.8568313 ]\n\n[ 1  0  1 -2  1 -1] simple_q_learning:  UP lin_val_approx:  UP\n[  -1.73222703 -286.90488076 -232.6178351  -135.20414078 -184.19601912\n -267.27168748]\n\n[ 1  0  2  1  1 -1] simple_q_learning:  DOWN lin_val_approx:  UP\n[-101.55431631 -117.32427348   -5.88918514 -234.73998318 -118.31826345\n -174.35243244]\n\n[ 1  0  2  2  1 -1] simple_q_learning:  DOWN lin_val_approx:  UP\n[ -37.1073932   -29.84009288   22.39683888 -109.0705993   -57.44168183\n  -55.60546606]\n\n[ 1  0  2 -1  1 -1] simple_q_learning:  UP lin_val_approx:  UP\n[-107.94173819 -162.83645542 -203.48133218 -270.01001232 -169.91576677\n -199.8621276 ]\n\n[ 1  0  2 -2  1 -1] simple_q_learning:  UP lin_val_approx:  UP\n[  -6.45666031 -119.51084775 -183.97812022 -182.49434612 -164.82136575\n -170.08533967]\n\n[ 1  0  3  1  1 -1] simple_q_learning:  DOWN lin_val_approx:  UP\n[-1.16357818e+02 -1.25390711e+02 -1.31401779e-01 -9.28763706e+01\n -9.65051120e+01 -1.64770907e+02]\n\n[ 1  0  3  2  1 -1] simple_q_learning:  DOWN lin_val_approx:  UP\n[-100.4552222   -16.18060138   46.194979    -22.60545128  -14.57497642\n  -82.32497962]\n\n[ 1  0  3 -1  1 -1] simple_q_learning:  UP lin_val_approx:  UP\n[  -6.82414492 -115.24443996 -129.08298088 -105.98480475 -140.56180612\n -159.94617554]\n\n[ 1  0  3 -2  1 -1] simple_q_learning:  UP lin_val_approx:  UP\n[ 52.02994841 -18.60986544 -34.24012353 -19.84667083 -32.39937918\n -36.75200189]\n\n[ 1  0 -1  1  1 -1] simple_q_learning:  DOWN lin_val_approx:  DOWN\n[-163.41284221 -158.20591955  -53.63786401 -138.53145825 -261.53925696\n -229.70067229]\n\n[ 1  0 -1  2  1 -1] simple_q_learning:  DOWN lin_val_approx:  DOWN\n[-161.00773464 -103.34012361  -24.50382069 -107.96738357 -133.70045891\n -160.88490388]\n\n[ 1  0 -1  3  1 -1] simple_q_learning:  UP lin_val_approx:  DOWN\n[-162.26632797 -269.65460781 -246.28393212 -268.91772073 -282.08441248\n -262.55072959]\n\n[ 1  0 -1 -1  1 -1] simple_q_learning:  UP lin_val_approx:  UP\n[-136.6237925  -335.90198832 -289.80050024 -281.27684041 -306.64294689\n -260.9149161 ]\n\n[ 1  0 -1 -2  1 -1] simple_q_learning:  UP lin_val_approx:  UP\n[ -96.26025763 -290.05810415 -222.50846    -259.78106276 -344.20512592\n -275.88212077]\n\n[ 1  0 -2  1  1 -1] simple_q_learning:  UP lin_val_approx:  DOWN\n[-136.14945367 -169.64986144 -206.04612507 -214.96917705 -170.41409869\n -219.80348701]\n\n[ 1  0 -2  2  1 -1] simple_q_learning:  DOWN lin_val_approx:  DOWN\n[-138.48845434 -125.73516781   17.94140754 -165.11364382 -135.60944114\n -142.68989713]\n\n[ 1  0 -2 -1  1 -1] simple_q_learning:  DOWN lin_val_approx:  UP\n[-166.82185316 -184.03150569  -99.87797208 -199.03757384 -163.55529604\n -144.85365753]\n\n[ 1  0 -2 -2  1 -1] simple_q_learning:  UP lin_val_approx:  UP\n[  16.94314707  -66.27226116 -121.77892716  -72.95135184 -219.5537396\n -209.90109243]\n\n[ 1  1  1  1  1 -1] simple_q_learning:  RIGHT lin_val_approx:  UP\n[-128.12900702  -41.82129801 -183.927301   -120.57238228 -184.79406822\n -173.72359411]\n\n[ 1  1  1  2  1 -1] simple_q_learning:  UP lin_val_approx:  RIGHT\n[-151.62521796 -201.96884606 -184.15522036 -255.38144632 -181.65996269\n -259.04948493]\n\n[ 1  1  1  3  1 -1] simple_q_learning:  RIGHT lin_val_approx:  RIGHT\n[ -86.27111284    0.14826774  -51.9891031   -58.32878211  -85.67678931\n -113.2476144 ]\n\n[ 1  1  1 -1  1 -1] simple_q_learning:  UP lin_val_approx:  UP\n[ -88.69088692 -183.45616533 -207.55168444 -212.2549893  -185.85078248\n -185.43801688]\n\n[ 1  1  1 -2  1 -1] simple_q_learning:  UP lin_val_approx:  UP\n[-138.49475214 -219.58723491 -236.11442441 -230.39910624 -261.3817406\n -274.9020184 ]\n\n[ 1  1  2  1  1 -1] simple_q_learning:  DOWN lin_val_approx:  UP\n[ -81.58872316 -140.59646624   -4.02476902 -123.34612658 -143.24186941\n  -84.98177732]\n\n[ 1  1  2  3  1 -1] simple_q_learning:  RIGHT lin_val_approx:  RIGHT\n[ -9.08953445  37.57374694 -67.27742903 -34.43690222 -70.59375292\n -39.10267705]\n\n[ 1  1  2 -1  1 -1] simple_q_learning:  UP lin_val_approx:  UP\n[-100.05617699 -189.97296173 -171.73334177 -264.4541657  -180.7712198\n -218.87098201]\n\n[ 1  1  3  1  1 -1] simple_q_learning:  DOWN lin_val_approx:  UP\n[ -93.6331006  -111.18538304    2.28064009 -100.96816175 -138.19641197\n -100.04855439]\n\n[ 1  1  3  2  1 -1] simple_q_learning:  DOWN lin_val_approx:  UP\n[ -23.28171868  -45.02775934   33.45903449   -5.89349687 -166.74351614\n  -51.38568977]\n\n[ 1  1  3  3  1 -1] simple_q_learning:  BOMB lin_val_approx:  RIGHT\n[21.83270508 13.87482441 17.48057323 20.42318246 23.16823594 49.87897689]\n\n[ 1  1  3 -1  1 -1] simple_q_learning:  UP lin_val_approx:  UP\n[   4.82768893 -144.98002464  -94.74483621 -135.1024515  -129.7328576\n -103.71052283]\n\n[ 1  1  3 -2  1 -1] simple_q_learning:  UP lin_val_approx:  UP\n[  10.46825196  -46.80893525  -95.39497196  -59.31891289 -104.75871558\n  -60.68703754]\n\n[ 1  1 -1  1  1 -1] simple_q_learning:  DOWN lin_val_approx:  LEFT\n[-131.21253477 -134.85825192  -53.54214112 -169.49047915 -133.98283813\n -178.71589924]\n\n[ 1  1 -1  2  1 -1] simple_q_learning:  LEFT lin_val_approx:  LEFT\n[-108.52256825  -95.03517066 -157.85497839   -5.45072096 -109.86257033\n  -95.05789076]\n\n[ 1  1 -1  3  1 -1] simple_q_learning:  LEFT lin_val_approx:  LEFT\n[ -77.37618239  -87.77261118  -95.60885306   -4.32756798 -217.32586129\n -244.13550128]\n\n[ 1  1 -1 -1  1 -1] simple_q_learning:  LEFT lin_val_approx:  LEFT\n[-226.53364535 -194.81393153 -223.97279103  -68.8228143  -252.88820093\n -219.34392826]\n\n[ 1  1 -1 -2  1 -1] simple_q_learning:  LEFT lin_val_approx:  LEFT\n[-236.50247901 -236.24276406 -250.00752385  -57.7186784  -340.64836192\n -344.33046713]\n\n[ 1  1 -2  1  1 -1] simple_q_learning:  LEFT lin_val_approx:  LEFT\n[-246.02063911 -189.33860292 -212.28950284 -138.4330584  -183.12455304\n -189.59082967]\n\n[ 1  1 -2  3  1 -1] simple_q_learning:  LEFT lin_val_approx:  LEFT\n[ -18.59298616  -32.34015561  -16.08227261   45.86575409  -38.25225826\n -110.12198369]\n\n[ 1  1 -2 -1  1 -1] simple_q_learning:  LEFT lin_val_approx:  LEFT\n[-205.82843142 -256.38095914 -191.45634779 -114.44746567 -212.35171166\n -214.12214001]\n\n[ 1  1 -2 -2  1 -1] simple_q_learning:  RIGHT lin_val_approx:  LEFT\n[-549.1298873  -470.89114003 -505.0845382  -550.12074422 -543.09854151\n -528.26465581]\n\n"
     ]
    }
   ],
   "source": [
    "c = 0\n",
    "for key in sorted(q_table.keys()):\n",
    "    #print(key)\n",
    "    action = q_table[key].argmax()\n",
    "    print(key, \"simple_q_learning: \", ACTIONS[action], \"lin_val_approx: \", state_to_action_via_lin_val_est(key) )\n",
    "    if (ACTIONS[action] ==state_to_action_via_lin_val_est(key)):\n",
    "        c += 1\n",
    "    print(q_table[key] )\n",
    "    print()"
   ]
  },
  {
   "cell_type": "code",
   "execution_count": 6443,
   "metadata": {},
   "outputs": [
    {
     "output_type": "stream",
     "name": "stdout",
     "text": [
      "66\n41\n"
     ]
    }
   ],
   "source": [
    "print(len(q_table)) \n",
    "print(c)"
   ]
  },
  {
   "cell_type": "code",
   "execution_count": 6444,
   "metadata": {},
   "outputs": [
    {
     "output_type": "stream",
     "name": "stdout",
     "text": [
      "UP [ 56.60790713 -30.88760512  24.02032043   2.88909789 -82.09983692\n  83.38596739]\nRIGHT [-13.48795983  15.59505074  16.32011977  19.10109073 -82.72808019\n  83.47350781]\nDOWN [ 25.11773113 -29.82734613  11.65146627  19.79966639 -79.4966889\n  80.71568127]\nLEFT [-32.73583404  48.72209702  -0.21881048  10.42588635 -73.15024407\n  74.06858543]\nWAIT [  0.33384657  -5.45218068  13.25818769   9.40329015 -95.14276654\n  95.6877198 ]\nBOMB [  14.6868379    11.51985639   16.74329043   11.84613422 -108.95828287\n  110.21866247]\n"
     ]
    }
   ],
   "source": [
    "\n",
    "for key in action_vectors:\n",
    "    print(key, action_vectors[key])"
   ]
  },
  {
   "cell_type": "code",
   "execution_count": 6445,
   "metadata": {},
   "outputs": [
    {
     "output_type": "execute_result",
     "data": {
      "text/plain": [
       "-8.866441605e+255"
      ]
     },
     "metadata": {},
     "execution_count": 6445
    }
   ],
   "source": [
    "v = np.array([-3.39690401e+001, -3.78378868e+001, -5.91096107e+254,  1.12225685e+227,\n",
    " -3.83210288e+001,  3.83210289e+001])\n",
    "s = np.array([ 1,  1, 15, 16,  1, -1])\n",
    "np.dot(s, v)"
   ]
  },
  {
   "cell_type": "code",
   "execution_count": 6446,
   "metadata": {},
   "outputs": [],
   "source": [
    "training_batches = dict()\n",
    "for a in ACTIONS:\n",
    "    training_batches[a] = []"
   ]
  },
  {
   "cell_type": "code",
   "execution_count": 6447,
   "metadata": {},
   "outputs": [],
   "source": [
    "def update_training_batches(n_max_samples:int = 10):\n",
    "    # take randomly 10 samples from the q table and put the q-values in the according training_batches\n",
    "    n_samples = min(len(q_table), n_max_samples)\n",
    "    random_states_str = random.sample(list(q_table), n_samples)\n",
    "    print(len(random_states_str))\n",
    "    temp = [s[1:-1] for s in random_states_str]  # remove brackets from the strings\n",
    "    features = [np.fromstring(s, dtype=float, sep=' ') for s in temp]   # convert strings back to numpy arrays\n",
    "\n",
    "    for i, key in enumerate( random_states_str):\n",
    "        for j, a in enumerate(ACTIONS):\n",
    "            training_batches[a].append( [features[i], q_table[key][j] ])\n",
    "    return training_batches"
   ]
  },
  {
   "cell_type": "code",
   "execution_count": 6448,
   "metadata": {
    "tags": []
   },
   "outputs": [
    {
     "output_type": "stream",
     "name": "stdout",
     "text": [
      "10\n"
     ]
    }
   ],
   "source": [
    "test = update_training_batches()\n"
   ]
  },
  {
   "cell_type": "code",
   "execution_count": 6449,
   "metadata": {},
   "outputs": [],
   "source": [
    "def dist_to_proximity(pos:tuple, max_dist:int = 15)->tuple:\n",
    "    # converts relative position to proximity values (high values mean that the position is near)\n",
    "    a = max_dist - np.abs(pos[0])\n",
    "    b = max_dist - np.abs(pos[1])\n",
    "    if pos[0] < 0:\n",
    "        a *= -1\n",
    "    if pos[1] < 0:\n",
    "        b *= -1\n",
    "    return (a, b)"
   ]
  },
  {
   "cell_type": "code",
   "execution_count": 6450,
   "metadata": {},
   "outputs": [
    {
     "output_type": "execute_result",
     "data": {
      "text/plain": [
       "(1, 3)"
      ]
     },
     "metadata": {},
     "execution_count": 6450
    }
   ],
   "source": [
    "dist_to_proximity((2, 0), 3)"
   ]
  },
  {
   "cell_type": "code",
   "execution_count": null,
   "metadata": {},
   "outputs": [],
   "source": []
  }
 ],
 "metadata": {
  "kernelspec": {
   "display_name": "Python 3",
   "language": "python",
   "name": "python3"
  },
  "language_info": {
   "codemirror_mode": {
    "name": "ipython",
    "version": 3
   },
   "file_extension": ".py",
   "mimetype": "text/x-python",
   "name": "python",
   "nbconvert_exporter": "python",
   "pygments_lexer": "ipython3",
   "version": "3.8.5-final"
  }
 },
 "nbformat": 4,
 "nbformat_minor": 4
}