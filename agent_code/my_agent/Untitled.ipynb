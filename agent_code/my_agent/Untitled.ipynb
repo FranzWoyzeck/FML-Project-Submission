{
 "cells": [
  {
   "cell_type": "code",
   "execution_count": 1,
   "metadata": {},
   "outputs": [],
   "source": [
    "import pickle\n",
    "import numpy as np\n",
    "ACTIONS = ['UP', 'RIGHT', 'DOWN', 'LEFT', 'WAIT', 'BOMB']\n",
    "ACTION_TO_INT = {'UP':0, 'RIGHT':1, 'DOWN':2, 'LEFT':3, 'WAIT':4, 'BOMB':5}"
   ]
  },
  {
   "cell_type": "code",
   "execution_count": 2,
   "metadata": {},
   "outputs": [
    {
     "output_type": "execute_result",
     "data": {
      "text/plain": [
       "'BOMB'"
      ]
     },
     "metadata": {},
     "execution_count": 2
    }
   ],
   "source": [
    "ACTIONS[ACTION_TO_INT['BOMB']]"
   ]
  },
  {
   "cell_type": "code",
   "execution_count": 3,
   "metadata": {},
   "outputs": [],
   "source": [
    "def get_direction_from_to(p1, p2):\n",
    "    v = get_vector_from_to(p1, p2)\n",
    "    if (v[0] == None) or (v[1] == None):\n",
    "        return (None, None)\n",
    "    if v[0] < 0:\n",
    "        a = -1\n",
    "    elif v[0] > 0: \n",
    "        a = 1\n",
    "    else: \n",
    "        a = 0\n",
    "\n",
    "    if v[1] < 0:\n",
    "        b = -1\n",
    "    elif v[1] > 0: \n",
    "        b = 1\n",
    "    else: \n",
    "        b = 0\n",
    "    return (a,b)\n",
    "\n",
    "def get_nearest_coin(state:dict):\n",
    "    # TODO catch case in which there are no more coins left\n",
    "    coins = state['coins'] \n",
    "    _, _, _, (x,y) = state['self']\n",
    "    minDistToCoin = np.inf\n",
    "    nearestCoin = (None, None)\n",
    "    for coin in coins:\n",
    "        dist = manhattenDist((x,y), coin)\n",
    "        if dist < minDistToCoin:\n",
    "            minDistToCoin = dist\n",
    "            nearestCoin = coin\n",
    "    return nearestCoin\n",
    "\n",
    "def get_vector_from_to(p1, p2):\n",
    "    try:\n",
    "        return (p2[0]-p1[0], p2[1]-p1[1])\n",
    "    except:\n",
    "        (None,None)\n",
    "\n",
    "def get_longest_direction_from_to(p1, p2):\n",
    "    v = get_vector_from_to(p1, p2)\n",
    "    if (v[0] == None) or (v[1] == None):\n",
    "        return (None, None)\n",
    "    if np.abs(v[0]) > np.abs(v[1]):\n",
    "        if v[0] > 0:\n",
    "            return (1, 0)\n",
    "        else: \n",
    "            return (-1,0)\n",
    "    else:\n",
    "        if v[1] > 0:\n",
    "            return (0, 1)\n",
    "        else: \n",
    "            return (0,-1)\n",
    "\n",
    "def manhattenDist(p1, p2):\n",
    "    try:\n",
    "        return np.abs( p1[0]-p2[0] ) + np.abs( p1[1]-p2[1] )\n",
    "    except:\n",
    "        return None"
   ]
  },
  {
   "cell_type": "code",
   "execution_count": 4,
   "metadata": {},
   "outputs": [
    {
     "output_type": "execute_result",
     "data": {
      "text/plain": [
       "(0, 1)"
      ]
     },
     "metadata": {},
     "execution_count": 4
    }
   ],
   "source": [
    "get_direction_from_to((1,1), (1,2))"
   ]
  },
  {
   "cell_type": "code",
   "execution_count": 5,
   "metadata": {},
   "outputs": [
    {
     "output_type": "execute_result",
     "data": {
      "text/plain": [
       "(0, 1)"
      ]
     },
     "metadata": {},
     "execution_count": 5
    }
   ],
   "source": [
    "get_vector_from_to((1,1), (1,2))\n"
   ]
  },
  {
   "cell_type": "code",
   "execution_count": 6,
   "metadata": {},
   "outputs": [
    {
     "output_type": "execute_result",
     "data": {
      "text/plain": [
       "[(14, 15), (0, -1)]"
      ]
     },
     "metadata": {},
     "execution_count": 6
    }
   ],
   "source": [
    "channels = []\n",
    "(x,y) = (14,15)\n",
    "nearest_coin = (1, 1)\n",
    "channels.append((x,y))                                      # add own position\n",
    "channels.append( get_longest_direction_from_to( (x,y), nearest_coin ) )\n",
    "channels"
   ]
  },
  {
   "cell_type": "code",
   "execution_count": 7,
   "metadata": {},
   "outputs": [],
   "source": [
    "with open(\"my-saved-model.pt\", \"rb\") as file:\n",
    "    model:dict = dict(pickle.load(file))"
   ]
  },
  {
   "cell_type": "code",
   "execution_count": 8,
   "metadata": {
    "tags": []
   },
   "outputs": [
    {
     "output_type": "stream",
     "name": "stdout",
     "text": [
      "[ 0  1  0 -1  0  1] RIGHT 1\n[ -1.1          0.97527448  -1.1         -0.60844985 -10.1\n -92.87940939]\n\n[ 0  1  1 -1  0  1] RIGHT 1\n[ -1.1          1.06184789  -1.1         -0.54310477 -10.1\n -92.39204753]\n\n[ 0  1 -1  0  1  0] LEFT 3\n[  0.7          1.17537777   0.7          4.92058245  -8.3\n -94.41716211]\n\n[ 0  1 -1  1  0  1] LEFT 3\n[  0.69999994   0.48159449   0.69999993   2.31100928  -8.30026423\n -92.52730247]\n\n[ 0  1 -1 -1  0  1] LEFT 3\n[  0.7          1.12539555   0.7          2.11437647  -8.3\n -92.88787812]\n\n[ 1  0  0 -1  0  1] UP 0\n[  3.10416291  -2.          -1.51175696  -2.         -11.\n -99.51926028]\n\n[ 1  0  1 -1  0  1] UP 0\n[  1.4         -1.99999991  -0.5156694   -1.99999999 -10.99991706\n -99.71699886]\n\n[ 1  0 -1  0  1  0] DOWN 2\n[  0.30421883  -0.20000104   1.25873301  -0.20000225  -9.20133861\n -92.83318702]\n\n[ 1  0 -1  1  0  1] DOWN 2\n[  0.30809103  -0.2          2.73270553  -0.2         -9.2\n -90.58763159]\n\n[ 1  0 -1 -1  0  1] UP 0\n[   3.2          -2.            1.22538083   -2.          -10.99999999\n -100.40986444]\n\n[ 1  1  0 -1  0  1] UP 0\n[  3.47929092   0.93623373  -1.53435878  -0.62657925 -11.\n -98.30213885]\n\n[ 1  1  1 -1  0  1] RIGHT 1\n[  1.23740933   1.39999101  -1.14007926  -0.44407949 -10.1004408\n -99.71396629]\n\n[ 1  1 -1  0  1  0] LEFT 3\n[  0.27115198   1.18085316  -0.87331009   6.52703888  -8.3\n -92.86800308]\n\n[ 1  1 -1  1  0  1] DOWN 2\n[  0.12468488   0.73277459   2.29999763   2.19586062  -9.17076177\n -99.13592921]\n\n[ 1  1 -1 -1  0  1] LEFT 3\n[  0.63948127   1.09495813  -0.66248294   1.40800799  -8.3\n -95.99935687]\n\n[0 1 0 1 0 1] RIGHT 1\n[ -0.87593632   0.66023435  -1.05719824   0.35763289  -9.90814982\n -95.71717907]\n\n[0 1 1 0 1 0] RIGHT 1\n[ -1.1          2.96257372  -1.1         -0.59818247 -10.1\n -99.47123011]\n\n[0 1 1 1 0 1] RIGHT 1\n[ -1.0999981    2.2854697   -1.09999935   0.36182715 -10.09961927\n -97.91578235]\n\n[0 1 None None None None] LEFT 3\n[  1.03104953   1.35954291   1.21691095   2.14866201  -0.79845397\n -12.89377526]\n\n[1 0 0 1 0 1] DOWN 2\n[  0.29596276  -0.2          4.79702401  -0.2         -9.2\n -96.05418242]\n\n[1 0 1 0 1 0] LEFT 3\n[  0.27580025   0.7         -0.40865558   0.7         -8.3\n -96.68283869]\n\n[1 0 1 1 0 1] DOWN 2\n[  0.25833098  -0.2          1.83517024  -0.2         -9.2\n -97.19537611]\n\n[1 0 None None None None] UP 0\n[ 2.08445573  0.82182003  1.35008897  0.5838954   0.4612625  -8.75750573]\n\n[1 1 0 0 0 1] RIGHT 1\n[  4.35920233   6.85411514   2.01295961   4.63864011   1.21855139\n -68.00442941]\n\n[1 1 0 1 0 1] DOWN 2\n[  0.22937325   0.92200606   4.01502699  -0.41255103  -9.2\n -96.73127866]\n\n[1 1 1 0 1 0] RIGHT 1\n[   0.14111871    4.83434723   -1.0277956    -0.70044959  -10.1\n -100.07009745]\n\n[1 1 1 1 0 1] DOWN 2\n[  0.21830569   1.40366079   2.55135602  -0.31751109  -9.2\n -95.30375532]\n\n[1 1 None None None None] LEFT 3\n[  0.59109136   1.25806752   0.68259331   2.02564583  -2.62187887\n -20.61270256]\n\n"
     ]
    }
   ],
   "source": [
    "for key in sorted(model.keys()):\n",
    "    #print(key)\n",
    "    action = model[key].argmax()\n",
    "    print(key, ACTIONS[action], action)\n",
    "    print(model[key] )\n",
    "    print()\n"
   ]
  },
  {
   "cell_type": "code",
   "execution_count": null,
   "metadata": {},
   "outputs": [],
   "source": []
  },
  {
   "cell_type": "code",
   "execution_count": 38,
   "metadata": {},
   "outputs": [
    {
     "output_type": "execute_result",
     "data": {
      "text/plain": [
       "array([ -92.69750036, -282.22894881,    3.39024631, -284.09023188,\n",
       "       -110.0057779 ,  -99.85445947])"
      ]
     },
     "metadata": {},
     "execution_count": 38
    }
   ],
   "source": []
  },
  {
   "cell_type": "code",
   "execution_count": 9,
   "metadata": {},
   "outputs": [
    {
     "output_type": "execute_result",
     "data": {
      "text/plain": [
       "28"
      ]
     },
     "metadata": {},
     "execution_count": 9
    }
   ],
   "source": [
    "len(model) # 647"
   ]
  },
  {
   "cell_type": "code",
   "execution_count": 10,
   "metadata": {},
   "outputs": [
    {
     "output_type": "stream",
     "name": "stdout",
     "text": [
      "1\n2\n3\n4\n5\n6\n7\n"
     ]
    }
   ],
   "source": [
    "a =[1, 2, 3, 4, 5, 6, 7, 8]\n",
    "\n",
    "for e in a[0:-1]:\n",
    "    print(e)"
   ]
  }
 ],
 "metadata": {
  "kernelspec": {
   "display_name": "Python 3",
   "language": "python",
   "name": "python3"
  },
  "language_info": {
   "codemirror_mode": {
    "name": "ipython",
    "version": 3
   },
   "file_extension": ".py",
   "mimetype": "text/x-python",
   "name": "python",
   "nbconvert_exporter": "python",
   "pygments_lexer": "ipython3",
   "version": "3.8.5-final"
  }
 },
 "nbformat": 4,
 "nbformat_minor": 4
}