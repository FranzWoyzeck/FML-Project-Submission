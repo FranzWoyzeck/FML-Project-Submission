{
 "cells": [
  {
   "cell_type": "code",
   "execution_count": 23,
   "metadata": {},
   "outputs": [],
   "source": [
    "import pickle\n",
    "import numpy as np\n",
    "ACTIONS = ['UP', 'RIGHT', 'DOWN', 'LEFT', 'WAIT', 'BOMB']\n",
    "ACTION_TO_INT = {'UP':0, 'RIGHT':1, 'DOWN':2, 'LEFT':3, 'WAIT':4, 'BOMB':5}\n",
    "\n",
    "# model stats\n",
    "N_GAMES = \"N_GAMES\"\n",
    "N_MOVES = \"N_MOVES\""
   ]
  },
  {
   "cell_type": "code",
   "execution_count": 46,
   "metadata": {},
   "outputs": [
    {
     "output_type": "stream",
     "name": "stdout",
     "text": [
      "number of states:  2\nplayed training games:  57026\nplayed training moves:  5324961\n"
     ]
    }
   ],
   "source": [
    "with open(\"my-saved-model.pt\", \"rb\") as file:\n",
    "    model:dict = dict(pickle.load(file))\n",
    "\n",
    "print(\"number of states: \", len(model))\n",
    "print(\"played training games: \", model[N_GAMES])\n",
    "print(\"played training moves: \", model[N_MOVES])"
   ]
  },
  {
   "cell_type": "code",
   "execution_count": 25,
   "metadata": {},
   "outputs": [
    {
     "output_type": "stream",
     "name": "stdout",
     "text": [
      "UP [nan nan nan nan]\n\nRIGHT [-21.31319724 -11.02985102   9.23942307   3.48570743]\n\nDOWN [-12.83505427 -14.99265759   1.71551032   8.6127085 ]\n\nLEFT [-25.88056711 -25.2924651   -4.01731859   1.65869302]\n\nWAIT [-20.33752135 -20.33752064   2.09504211   0.24299105]\n\nBOMB [-104.71545183 -104.7153381    17.37504804  -13.51134878]\n\n"
     ]
    }
   ],
   "source": [
    "with open(\"action_vectors.pt\", \"rb\") as file:\n",
    "    action_vectors:dict = dict(pickle.load(file))\n",
    "\n",
    "for key in action_vectors:\n",
    "    print(key, action_vectors[key])\n",
    "    print()"
   ]
  },
  {
   "cell_type": "code",
   "execution_count": 26,
   "metadata": {
    "tags": []
   },
   "outputs": [
    {
     "output_type": "stream",
     "name": "stdout",
     "text": [
      "52720\n\n4856502\n\n"
     ]
    }
   ],
   "source": [
    "\n",
    "for key in model.keys():\n",
    "    #print(key)\n",
    "    # action = model[key].argmax()\n",
    "    #print(key, ACTIONS[action], action)\n",
    "    print(model[key] )\n",
    "    print()\n"
   ]
  },
  {
   "cell_type": "code",
   "execution_count": 27,
   "metadata": {},
   "outputs": [],
   "source": [
    "coins = [(1, 2), (6, 1)]\n",
    "(x,y) = (1,1)"
   ]
  },
  {
   "cell_type": "code",
   "execution_count": 28,
   "metadata": {},
   "outputs": [],
   "source": [
    "def get_direction_from_to(p1:tuple, p2:tuple, max_c:int=2)->tuple:\n",
    "    try:\n",
    "        # compute coordinates of vector from p1 to p2 and limit coordinates by max_c\n",
    "        a = max(min( p2[0]-p1[0], max_c), -max_c)\n",
    "        b = max(min( p2[1]-p1[1], max_c), -max_c)\n",
    "    except:\n",
    "        return (None, None)\n",
    "    return (a, b)"
   ]
  },
  {
   "cell_type": "code",
   "execution_count": 29,
   "metadata": {},
   "outputs": [],
   "source": [
    "def manhattenDist(p1, p2):\n",
    "    try:\n",
    "        return np.abs( p1[0]-p2[0] ) + np.abs( p1[1]-p2[1] )\n",
    "    except:\n",
    "        return None"
   ]
  },
  {
   "cell_type": "code",
   "execution_count": 30,
   "metadata": {},
   "outputs": [],
   "source": [
    "def create_coin_radar(coins, pos, max_dist=np.inf):\n",
    "    rev_sorted_coins = coins.copy()\n",
    "    rev_sorted_coins.sort(reverse=True, key=lambda a: manhattenDist(a, pos))\n",
    "    radar = np.zeros((3,3))\n",
    "    for coin in rev_sorted_coins:\n",
    "        v = get_direction_from_to(pos, coin, 1)\n",
    "        d = min(manhattenDist(coin, pos), max_dist)\n",
    "        radar[v[0]+1,v[1]+1] = d\n",
    "    return radar"
   ]
  },
  {
   "cell_type": "code",
   "execution_count": 31,
   "metadata": {},
   "outputs": [
    {
     "output_type": "execute_result",
     "data": {
      "text/plain": [
       "array([[0., 0., 0.],\n",
       "       [0., 0., 1.],\n",
       "       [0., 5., 0.]])"
      ]
     },
     "metadata": {},
     "execution_count": 31
    }
   ],
   "source": [
    "create_coin_radar(coins, (x,y), max_dist=5 )"
   ]
  },
  {
   "cell_type": "code",
   "execution_count": 32,
   "metadata": {},
   "outputs": [
    {
     "output_type": "execute_result",
     "data": {
      "text/plain": [
       "4"
      ]
     },
     "metadata": {},
     "execution_count": 32
    }
   ],
   "source": [
    "manhattenDist((1,1),(1,5))"
   ]
  },
  {
   "cell_type": "code",
   "execution_count": null,
   "metadata": {},
   "outputs": [],
   "source": []
  }
 ],
 "metadata": {
  "kernelspec": {
   "display_name": "Python 3",
   "language": "python",
   "name": "python3"
  },
  "language_info": {
   "codemirror_mode": {
    "name": "ipython",
    "version": 3
   },
   "file_extension": ".py",
   "mimetype": "text/x-python",
   "name": "python",
   "nbconvert_exporter": "python",
   "pygments_lexer": "ipython3",
   "version": "3.8.5-final"
  }
 },
 "nbformat": 4,
 "nbformat_minor": 4
}