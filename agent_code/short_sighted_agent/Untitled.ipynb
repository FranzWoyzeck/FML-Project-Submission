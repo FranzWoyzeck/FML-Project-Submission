{
 "cells": [
  {
   "cell_type": "code",
   "execution_count": 71,
   "metadata": {},
   "outputs": [
    {
     "output_type": "error",
     "ename": "SyntaxError",
     "evalue": "invalid syntax (<ipython-input-71-48e977513ce6>, line 3)",
     "traceback": [
      "\u001b[0;36m  File \u001b[0;32m\"<ipython-input-71-48e977513ce6>\"\u001b[0;36m, line \u001b[0;32m3\u001b[0m\n\u001b[0;31m    import scipy.optimize.\u001b[0m\n\u001b[0m                          ^\u001b[0m\n\u001b[0;31mSyntaxError\u001b[0m\u001b[0;31m:\u001b[0m invalid syntax\n"
     ]
    }
   ],
   "source": [
    "import pickle\n",
    "import numpy as np\n",
    "ACTIONS = ['UP', 'RIGHT', 'DOWN', 'LEFT', 'WAIT', 'BOMB']\n",
    "ACTION_TO_INT = {'UP':0, 'RIGHT':1, 'DOWN':2, 'LEFT':3, 'WAIT':4, 'BOMB':5}\n",
    "\n",
    "# model stats\n",
    "N_GAMES = \"N_GAMES\"\n",
    "N_MOVES = \"N_MOVES\""
   ]
  },
  {
   "cell_type": "code",
   "execution_count": 48,
   "metadata": {},
   "outputs": [
    {
     "output_type": "stream",
     "name": "stdout",
     "text": [
      "[0, 1, 2, 3, 4, 5]\n1\n\n[0, 1, 2, 3, 4, 5]\n1\n\n[0, 1, 2, 3, 4, 5]\n1\n\n"
     ]
    }
   ],
   "source": [
    "batches = dict()\n",
    "for a in ACTIONS:\n",
    "    X = [0, 1, 2, 3, 4, 5]\n",
    "    Y = 1\n",
    "    batches[a] = [[X, Y], [X, Y], [X, Y]]\n",
    "\n",
    "\n",
    "for (X, Y) in batches[a]:\n",
    "    print(X)\n",
    "    print(Y)\n",
    "    print()\n"
   ]
  },
  {
   "cell_type": "code",
   "execution_count": 53,
   "metadata": {},
   "outputs": [
    {
     "output_type": "execute_result",
     "data": {
      "text/plain": [
       "array([1, 2, 3])"
      ]
     },
     "metadata": {},
     "execution_count": 53
    }
   ],
   "source": [
    "a = np.array([1, 2])\n",
    "a = np.array([1, 2, 3])\n",
    "a"
   ]
  },
  {
   "cell_type": "code",
   "execution_count": 3,
   "metadata": {},
   "outputs": [
    {
     "output_type": "stream",
     "name": "stdout",
     "text": [
      "number of states:  4\nplayed training games:  1\nplayed training moves:  10\n"
     ]
    }
   ],
   "source": [
    "with open(\"my-saved-model.pt\", \"rb\") as file:\n",
    "    model:dict = dict(pickle.load(file))\n",
    "\n",
    "print(\"number of states: \", len(model))\n",
    "print(\"played training games: \", model[N_GAMES])\n",
    "print(\"played training moves: \", model[N_MOVES])"
   ]
  },
  {
   "cell_type": "code",
   "execution_count": 58,
   "metadata": {},
   "outputs": [
    {
     "output_type": "stream",
     "name": "stdout",
     "text": [
      "UP [-4.85043049e+11 -2.22992243e+11 -4.52991613e+11 -4.33383020e+11\n  1.04546289e+00 -4.29113243e+10 -5.17335044e+11 -3.29240125e+11\n -4.85906402e+11  3.65003581e+11  7.37863899e+11  8.28138605e+11\n  4.53500887e+10  1.06651888e+00  7.15744812e+11  1.75043174e+10\n  1.31308532e+11  7.09400386e+11]\n\nRIGHT [-0.65465955  0.92308063 -3.45899708 -2.18844523  1.01865906 -3.13627028\n -0.68923628  1.63234283 -3.43707759  4.67707094 -0.8862598   0.75616678\n  7.94468018  1.04326819 -1.25338332 13.03761254  3.4009136  -5.58507599]\n\nDOWN [ 2.21884267  2.21140933  2.19149602  1.07961457  1.0616488   2.240715\n  2.27513139  1.05330068  2.26743464  1.07027902  1.02541254  1.07868835\n -6.4492847   1.01623417  1.00437696 -6.45744174 -1.64259865  1.03036322]\n\nLEFT [ 2.3549999   2.3356299   2.34776487  2.32367559  1.00891351  1.04554775\n  2.32503241  1.06617232  2.32819754  1.00315739  1.04585286  1.09492224\n  1.01450304  1.02685032  1.0478177   1.07633317 -6.95793346 -6.95098724]\n\nWAIT [ 2.76209407  1.85027671  2.74859733  1.8354448   1.07731682  1.97468339\n  2.74856849  2.00177373  2.78434004 -3.73614192  1.07159534  1.03847478\n -5.19640985  1.05842139 -3.22796428  1.04445978  1.0522475  -4.56746805]\n\nBOMB [  3.1965749    3.20844011   3.20895571   3.24983276   1.04211804\n   1.08288558   3.21636187   1.06900401   3.20300075   1.02821573\n   1.04696775   1.07593537   1.07182321   1.00464551 -11.36352532\n   1.02183401   1.07991107 -11.36759731]\n\n"
     ]
    }
   ],
   "source": [
    "with open(\"action_vectors.pt\", \"rb\") as file:\n",
    "    action_vectors:dict = dict(pickle.load(file))\n",
    "\n",
    "for key in action_vectors:\n",
    "    print(key, action_vectors[key])\n",
    "    print()"
   ]
  },
  {
   "cell_type": "code",
   "execution_count": 4,
   "metadata": {
    "tags": []
   },
   "outputs": [
    {
     "output_type": "stream",
     "name": "stdout",
     "text": [
      "1\n\n10\n\n[-0.03883035  0.60957913  1.00874326 -0.42526464  1.00561309  1.02943731]\n\n[-0.58689021  1.00348574 -0.50302108  0.65961525  0.11030102 -4.33961594]\n\n"
     ]
    }
   ],
   "source": [
    "\n",
    "for key in model.keys():\n",
    "    #print(key)\n",
    "    # action = model[key].argmax()\n",
    "    #print(key, ACTIONS[action], action)\n",
    "    print(model[key] )\n",
    "    print()\n"
   ]
  },
  {
   "cell_type": "code",
   "execution_count": 5,
   "metadata": {},
   "outputs": [],
   "source": [
    "coins = [(1, 2), (6, 1)]\n",
    "(x,y) = (1,1)"
   ]
  },
  {
   "cell_type": "code",
   "execution_count": 6,
   "metadata": {},
   "outputs": [],
   "source": [
    "def get_direction_from_to(p1:tuple, p2:tuple, max_c:int=2)->tuple:\n",
    "    try:\n",
    "        # compute coordinates of vector from p1 to p2 and limit coordinates by max_c\n",
    "        a = max(min( p2[0]-p1[0], max_c), -max_c)\n",
    "        b = max(min( p2[1]-p1[1], max_c), -max_c)\n",
    "    except:\n",
    "        return (None, None)\n",
    "    return (a, b)"
   ]
  },
  {
   "cell_type": "code",
   "execution_count": 7,
   "metadata": {},
   "outputs": [],
   "source": [
    "def manhattenDist(p1, p2):\n",
    "    try:\n",
    "        return np.abs( p1[0]-p2[0] ) + np.abs( p1[1]-p2[1] )\n",
    "    except:\n",
    "        return None"
   ]
  },
  {
   "cell_type": "code",
   "execution_count": 8,
   "metadata": {},
   "outputs": [],
   "source": [
    "def create_coin_radar(coins, pos, max_dist=np.inf):\n",
    "    rev_sorted_coins = coins.copy()\n",
    "    rev_sorted_coins.sort(reverse=True, key=lambda a: manhattenDist(a, pos))\n",
    "    radar = np.zeros((3,3))\n",
    "    for coin in rev_sorted_coins:\n",
    "        v = get_direction_from_to(pos, coin, 1)\n",
    "        d = min(manhattenDist(coin, pos), max_dist)\n",
    "        radar[v[0]+1,v[1]+1] = d\n",
    "    return radar"
   ]
  },
  {
   "cell_type": "code",
   "execution_count": 9,
   "metadata": {},
   "outputs": [
    {
     "output_type": "execute_result",
     "data": {
      "text/plain": [
       "array([[0., 0., 0.],\n",
       "       [0., 0., 1.],\n",
       "       [0., 5., 0.]])"
      ]
     },
     "metadata": {},
     "execution_count": 9
    }
   ],
   "source": [
    "create_coin_radar(coins, (x,y), max_dist=5 )"
   ]
  },
  {
   "cell_type": "code",
   "execution_count": 10,
   "metadata": {},
   "outputs": [
    {
     "output_type": "execute_result",
     "data": {
      "text/plain": [
       "4"
      ]
     },
     "metadata": {},
     "execution_count": 10
    }
   ],
   "source": [
    "manhattenDist((1,1),(1,5))"
   ]
  },
  {
   "cell_type": "code",
   "execution_count": null,
   "metadata": {},
   "outputs": [],
   "source": []
  }
 ],
 "metadata": {
  "kernelspec": {
   "display_name": "Python 3",
   "language": "python",
   "name": "python3"
  },
  "language_info": {
   "codemirror_mode": {
    "name": "ipython",
    "version": 3
   },
   "file_extension": ".py",
   "mimetype": "text/x-python",
   "name": "python",
   "nbconvert_exporter": "python",
   "pygments_lexer": "ipython3",
   "version": "3.8.5-final"
  }
 },
 "nbformat": 4,
 "nbformat_minor": 4
}